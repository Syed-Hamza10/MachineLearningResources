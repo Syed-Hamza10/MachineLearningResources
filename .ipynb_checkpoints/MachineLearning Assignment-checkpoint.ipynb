{
 "cells": [
  {
   "cell_type": "markdown",
   "id": "b3c78ba4",
   "metadata": {},
   "source": [
    "#                     NAME :    Syed Hamza\n",
    "<b>Roll number : BSDSF21A019</b>"
   ]
  },
  {
   "cell_type": "markdown",
   "id": "ae7fca7e",
   "metadata": {},
   "source": [
    "# Label Encoding Through Pandas"
   ]
  },
  {
   "cell_type": "code",
   "execution_count": 28,
   "id": "0e037f56",
   "metadata": {},
   "outputs": [
    {
     "data": {
      "text/html": [
       "<div>\n",
       "<style scoped>\n",
       "    .dataframe tbody tr th:only-of-type {\n",
       "        vertical-align: middle;\n",
       "    }\n",
       "\n",
       "    .dataframe tbody tr th {\n",
       "        vertical-align: top;\n",
       "    }\n",
       "\n",
       "    .dataframe thead th {\n",
       "        text-align: right;\n",
       "    }\n",
       "</style>\n",
       "<table border=\"1\" class=\"dataframe\">\n",
       "  <thead>\n",
       "    <tr style=\"text-align: right;\">\n",
       "      <th></th>\n",
       "      <th>Category</th>\n",
       "      <th>Label_Encoding</th>\n",
       "    </tr>\n",
       "  </thead>\n",
       "  <tbody>\n",
       "    <tr>\n",
       "      <th>0</th>\n",
       "      <td>A</td>\n",
       "      <td>0</td>\n",
       "    </tr>\n",
       "    <tr>\n",
       "      <th>1</th>\n",
       "      <td>B</td>\n",
       "      <td>1</td>\n",
       "    </tr>\n",
       "    <tr>\n",
       "      <th>2</th>\n",
       "      <td>C</td>\n",
       "      <td>2</td>\n",
       "    </tr>\n",
       "    <tr>\n",
       "      <th>3</th>\n",
       "      <td>A</td>\n",
       "      <td>0</td>\n",
       "    </tr>\n",
       "    <tr>\n",
       "      <th>4</th>\n",
       "      <td>B</td>\n",
       "      <td>1</td>\n",
       "    </tr>\n",
       "    <tr>\n",
       "      <th>5</th>\n",
       "      <td>C</td>\n",
       "      <td>2</td>\n",
       "    </tr>\n",
       "    <tr>\n",
       "      <th>6</th>\n",
       "      <td>A</td>\n",
       "      <td>0</td>\n",
       "    </tr>\n",
       "  </tbody>\n",
       "</table>\n",
       "</div>"
      ],
      "text/plain": [
       "  Category  Label_Encoding\n",
       "0        A               0\n",
       "1        B               1\n",
       "2        C               2\n",
       "3        A               0\n",
       "4        B               1\n",
       "5        C               2\n",
       "6        A               0"
      ]
     },
     "execution_count": 28,
     "metadata": {},
     "output_type": "execute_result"
    }
   ],
   "source": [
    "import pandas as pd\n",
    "\n",
    "data = {'Category': ['A', 'B', 'C', 'A', 'B', 'C', 'A']}\n",
    "df = pd.DataFrame(data)\n",
    "\n",
    "df['Label_Encoding'] = pd.factorize(df['Category'])[0]\n",
    "\n",
    "df\n"
   ]
  },
  {
   "cell_type": "markdown",
   "id": "c8ec97df",
   "metadata": {},
   "source": [
    "# One Hot Encoding"
   ]
  },
  {
   "cell_type": "code",
   "execution_count": 29,
   "id": "19cfa834",
   "metadata": {},
   "outputs": [
    {
     "name": "stdout",
     "output_type": "stream",
     "text": [
      "      Category  Cantt  Islamabad  Johar Town  Karachi  Lahore  Los Angeles\n",
      "0       Lahore  False      False       False    False    True        False\n",
      "1      Karachi  False      False       False     True   False        False\n",
      "2    Islamabad  False       True       False    False   False        False\n",
      "3        Cantt   True      False       False    False   False        False\n",
      "4   Johar Town  False      False        True    False   False        False\n",
      "5  Los Angeles  False      False       False    False   False         True\n"
     ]
    }
   ],
   "source": [
    "data2 = {'Category': ['Lahore', 'Karachi', 'Islamabad', 'Cantt', 'Johar Town', 'Los Angeles']}\n",
    "df2 = pd.DataFrame(data2)\n",
    "\n",
    "one_hot_encoded = pd.get_dummies(df2['Category'], prefix= None)\n",
    "\n",
    "df2 = pd.concat([df2, one_hot_encoded], axis=1)\n",
    "\n",
    "print(df2)\n"
   ]
  },
  {
   "cell_type": "markdown",
   "id": "a1932dca",
   "metadata": {},
   "source": [
    "# Custom Transform Functions\n",
    "### Transformer Class"
   ]
  },
  {
   "cell_type": "code",
   "execution_count": 30,
   "id": "5d512d7f",
   "metadata": {},
   "outputs": [],
   "source": [
    "import numpy as np\n",
    "class CustomTransformer:\n",
    "    def __init__(self):\n",
    "        self.mean = None\n",
    "        self.mode = None  \n",
    "        self.median = None"
   ]
  },
  {
   "cell_type": "markdown",
   "id": "4b8ff17e",
   "metadata": {},
   "source": [
    "# FIT() Function\n",
    "FIT function calculates the scaling(mean in our case) of columns of our dataset"
   ]
  },
  {
   "cell_type": "markdown",
   "id": "cc129a01",
   "metadata": {},
   "source": [
    "### Fit Function"
   ]
  },
  {
   "cell_type": "code",
   "execution_count": 31,
   "id": "5ea5a28f",
   "metadata": {},
   "outputs": [],
   "source": [
    "def Fit(self,X):\n",
    "    self.mean = X.mean()\n",
    "    self.mode = X.mode().iloc[0]\n",
    "    self.median = X.median()\n",
    "CustomTransformer.Fit = Fit    "
   ]
  },
  {
   "cell_type": "markdown",
   "id": "f66f292d",
   "metadata": {},
   "source": [
    "### Transform Function"
   ]
  },
  {
   "cell_type": "code",
   "execution_count": 32,
   "id": "895a5e07",
   "metadata": {},
   "outputs": [],
   "source": [
    "def Transform(self,X):\n",
    "    X_mean = X.fillna(self.mean)\n",
    "    X_median = X.fillna(self.median)\n",
    "    X_mode = X.fillna(self.mode)\n",
    "    return X_mean, X_median, X_mode\n",
    "CustomTransformer.Transform = Transform"
   ]
  },
  {
   "cell_type": "markdown",
   "id": "18fa24a4",
   "metadata": {},
   "source": [
    "### FIT_TRANSFORM Function"
   ]
  },
  {
   "cell_type": "code",
   "execution_count": 33,
   "id": "ee430182",
   "metadata": {},
   "outputs": [],
   "source": [
    "def Fit_transform(self,X):\n",
    "    self.Fit(X)\n",
    "    return self.Transform(X)\n",
    "CustomTransformer.Fit_transform = Fit_transform"
   ]
  },
  {
   "cell_type": "code",
   "execution_count": 34,
   "id": "0b95e241",
   "metadata": {},
   "outputs": [
    {
     "name": "stdout",
     "output_type": "stream",
     "text": [
      "Data before Transformation    Values\n",
      "0     1.0\n",
      "1     2.0\n",
      "2     NaN\n",
      "3     4.0\n",
      "4     5.0\n",
      "5     NaN\n",
      "6     7.0\n",
      "7     8.0\n",
      "8     9.0\n",
      "Transformed Data (Using Mean):\n",
      "0    1.000000\n",
      "1    2.000000\n",
      "2    5.142857\n",
      "3    4.000000\n",
      "4    5.000000\n",
      "5    5.142857\n",
      "6    7.000000\n",
      "7    8.000000\n",
      "8    9.000000\n",
      "Name: Values, dtype: float64\n",
      "\n",
      "Transformed Data (Using Median):\n",
      "0    1.0\n",
      "1    2.0\n",
      "2    5.0\n",
      "3    4.0\n",
      "4    5.0\n",
      "5    5.0\n",
      "6    7.0\n",
      "7    8.0\n",
      "8    9.0\n",
      "Name: Values, dtype: float64\n",
      "\n",
      "Transformed Data (Using Mode):\n",
      "0    1.0\n",
      "1    2.0\n",
      "2    1.0\n",
      "3    4.0\n",
      "4    5.0\n",
      "5    1.0\n",
      "6    7.0\n",
      "7    8.0\n",
      "8    9.0\n",
      "Name: Values, dtype: float64\n"
     ]
    }
   ],
   "source": [
    "data = {'Values': [1, 2, np.nan, 4, 5, np.nan, 7, 8, 9]}\n",
    "df = pd.DataFrame(data)\n",
    "\n",
    "\n",
    "transformer = CustomTransformer()\n",
    "\n",
    "\n",
    "transformed_data_mean, transformed_data_median, transformed_data_mode = transformer.Fit_transform(df['Values'])\n",
    "print(f\"Data before Transformation {df}\")\n",
    "print(\"Transformed Data (Using Mean):\")\n",
    "print(transformed_data_mean)\n",
    "print(\"\\nTransformed Data (Using Median):\")\n",
    "print(transformed_data_median)\n",
    "print(\"\\nTransformed Data (Using Mode):\")\n",
    "print(transformed_data_mode)"
   ]
  }
 ],
 "metadata": {
  "kernelspec": {
   "display_name": "Python 3 (ipykernel)",
   "language": "python",
   "name": "python3"
  },
  "language_info": {
   "codemirror_mode": {
    "name": "ipython",
    "version": 3
   },
   "file_extension": ".py",
   "mimetype": "text/x-python",
   "name": "python",
   "nbconvert_exporter": "python",
   "pygments_lexer": "ipython3",
   "version": "3.11.5"
  }
 },
 "nbformat": 4,
 "nbformat_minor": 5
}
